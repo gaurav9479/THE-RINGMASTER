{
 "cells": [
  {
   "cell_type": "code",
   "execution_count": 5,
   "id": "21a7b383-810a-4a61-8d45-e6cfe3df030b",
   "metadata": {},
   "outputs": [
    {
     "name": "stdout",
     "output_type": "stream",
     "text": [
      "✅ CSV file saved at: /Users/gauravprajapati/CSV/jaipur_places.csv\n"
     ]
    }
   ],
   "source": [
    "import os\n",
    "import pandas as pd\n",
    "\n",
    "# Data for Jaipur places\n",
    "data = [\n",
    "    [\"Jaipur\", \"Hawa Mahal\", \"Monument\", \"2 hrs\", \"https://upload.wikimedia.org/wikipedia/commons/9/9c/Hawa_Mahal_in_Jaipur_2016.jpg\", \"October to March\", \"Known as the 'Palace of Winds', this pink sandstone structure has 953 small windows and offers stunning views of the city.\"],\n",
    "    [\"Jaipur\", \"Amber Fort\", \"Fort\", \"3 hrs\", \"https://upload.wikimedia.org/wikipedia/commons/f/fb/Amber_Fort_Jaipur_India_January_2019_%2846127000204%29.jpg\", \"November to February\", \"A majestic hilltop fort showcasing Rajput architecture with a blend of Hindu and Mughal styles.\"],\n",
    "    [\"Jaipur\", \"City Palace\", \"Palace\", \"2.5 hrs\", \"https://upload.wikimedia.org/wikipedia/commons/f/fb/Jaipur_City_Palace%2C_Rajasthan.jpg\", \"October to March\", \"A royal residence complex that blends Mughal and Rajput architecture and houses a museum.\"],\n",
    "    [\"Jaipur\", \"Jantar Mantar\", \"Observatory\", \"1.5 hrs\", \"https://upload.wikimedia.org/wikipedia/commons/6/6a/Jantar_Mantar%2C_Jaipur%2C_India.jpg\", \"October to March\", \"A UNESCO World Heritage site with architectural astronomical instruments built in the 18th century.\"],\n",
    "    [\"Jaipur\", \"Jal Mahal\", \"Lake Palace\", \"1 hr\", \"https://upload.wikimedia.org/wikipedia/commons/0/05/Jal_Mahal_Jaipur_India.jpg\", \"November to February\", \"A beautiful palace in the middle of Man Sagar Lake, best viewed during sunrise or sunset.\"],\n",
    "    [\"Jaipur\", \"Albert Hall Museum\", \"Museum\", \"2 hrs\", \"https://upload.wikimedia.org/wikipedia/commons/b/bc/Albert_Hall_Museum_Jaipur.jpg\", \"October to March\", \"The oldest museum in Rajasthan showcasing a wide range of artifacts and cultural exhibits.\"],\n",
    "    [\"Jaipur\", \"Nahargarh Fort\", \"Fort\", \"3 hrs\", \"https://upload.wikimedia.org/wikipedia/commons/2/2a/Nahargarh_Fort_Jaipur_Rajasthan_India.jpg\", \"October to February\", \"Overlooking the city, this fort offers panoramic views and a glimpse into Jaipur’s royal past.\"],\n",
    "    [\"Jaipur\", \"Jaigarh Fort\", \"Fort\", \"2.5 hrs\", \"https://upload.wikimedia.org/wikipedia/commons/2/26/Jaigarh_Fort_Jaipur.jpg\", \"October to March\", \"Home to the world’s largest cannon on wheels and a great place for exploring Rajasthan’s military history.\"],\n",
    "    [\"Jaipur\", \"Birla Mandir\", \"Temple\", \"1 hr\", \"https://upload.wikimedia.org/wikipedia/commons/d/de/Birla_Mandir_Jaipur.jpg\", \"October to March\", \"A modern white marble temple dedicated to Lord Vishnu and Goddess Lakshmi, glowing beautifully at night.\"],\n",
    "    [\"Jaipur\", \"Chokhi Dhani\", \"Cultural Village\", \"3 hrs\", \"https://upload.wikimedia.org/wikipedia/commons/4/43/Chokhi_Dhani_Jaipur.jpg\", \"October to March\", \"An ethnic village resort offering Rajasthani food, folk dances, puppet shows, and camel rides.\"]\n",
    "]\n",
    "\n",
    "# Column names\n",
    "columns = [\"city\", \"place\", \"type\", \"duration\", \"image\", \"best_time_to_visit\", \"description\"]\n",
    "\n",
    "# Output folder path\n",
    "output_folder = os.path.join(os.getcwd(), \"CSV\")\n",
    "os.makedirs(output_folder, exist_ok=True)\n",
    "\n",
    "# CSV file path\n",
    "csv_file_path = os.path.join(output_folder, \"jaipur_places.csv\")\n",
    "\n",
    "# Create DataFrame and save\n",
    "df = pd.DataFrame(data, columns=columns)\n",
    "df.to_csv(csv_file_path, index=False, encoding=\"utf-8\")\n",
    "\n",
    "print(f\"✅ CSV file saved at: {csv_file_path}\")\n"
   ]
  },
  {
   "cell_type": "code",
   "execution_count": 6,
   "id": "620797cd-36f6-461b-875b-8844a2d69bf7",
   "metadata": {},
   "outputs": [
    {
     "name": "stdout",
     "output_type": "stream",
     "text": [
      "✅ CSV file 'jaipur_hotels.csv' created successfully!\n"
     ]
    }
   ],
   "source": [
    "\n"
   ]
  },
  {
   "cell_type": "code",
   "execution_count": null,
   "id": "152d1679-42cf-4bc8-9666-fe3cb400fa54",
   "metadata": {},
   "outputs": [],
   "source": []
  }
 ],
 "metadata": {
  "kernelspec": {
   "display_name": "Python 3 (ipykernel)",
   "language": "python",
   "name": "python3"
  },
  "language_info": {
   "codemirror_mode": {
    "name": "ipython",
    "version": 3
   },
   "file_extension": ".py",
   "mimetype": "text/x-python",
   "name": "python",
   "nbconvert_exporter": "python",
   "pygments_lexer": "ipython3",
   "version": "3.12.7"
  }
 },
 "nbformat": 4,
 "nbformat_minor": 5
}
