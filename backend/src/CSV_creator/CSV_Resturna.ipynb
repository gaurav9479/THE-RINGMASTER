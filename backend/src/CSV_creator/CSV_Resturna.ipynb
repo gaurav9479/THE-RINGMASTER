{
 "cells": [
  {
   "cell_type": "code",
   "execution_count": 1,
   "id": "586466f1",
   "metadata": {},
   "outputs": [
    {
     "name": "stdout",
     "output_type": "stream",
     "text": [
      "✅ jaipur_restaurants.csv created successfully!\n"
     ]
    }
   ],
   "source": [
    "import csv\n",
    "\n",
    "restaurants = [\n",
    "    [\"Peacock Rooftop Restaurant\", \"North Indian\", \"₹800–₹1200 per person\", 4.5, \"MI Road, Jaipur\"],\n",
    "  [\"Laxmi Misthan Bhandar\", \"Rajasthani\", \"₹200–₹500 per person\", 4.3, \"Johari Bazaar, Jaipur\"],\n",
    "  [\"Handi Restaurant\", \"Mughlai\", \"₹600–₹1000 per person\", 4.4, \"Vaishali Nagar, Jaipur\"],\n",
    "  [\"Spice Court\", \"North Indian\", \"₹700–₹1100 per person\", 4.2, \"Civil Lines, Jaipur\"],\n",
    "  [\"Chokhi Dhani\", \"Rajasthani\", \"₹800–₹1200 per person\", 4.7, \"Tonk Road, Jaipur\"],\n",
    "  [\"Dragon House\", \"Chinese\", \"₹600–₹900 per person\", 4.3, \"MI Road, Jaipur\"],\n",
    "  [\"Peshawri\", \"North Indian\", \"₹1000–₹1600 per person\", 4.6, \"ITC Rajputana, Jaipur\"],\n",
    "  [\"Tapri Central\", \"Café\", \"₹400–₹700 per person\", 4.5, \"C Scheme, Jaipur\"],\n",
    "  [\"Bar Palladio\", \"Italian\", \"₹900–₹1400 per person\", 4.6, \"Narain Niwas Palace, Jaipur\"],\n",
    "  [\"RJ14\", \"Rajasthani\", \"₹500–₹800 per person\", 4.4, \"Ajmer Road, Jaipur\"]\n",
    "]\n",
    "\n",
    "with open(\"jaipur_restaurants.csv\", \"w\", newline=\"\") as f:\n",
    "    writer = csv.writer(f)\n",
    "    writer.writerow([\"name\", \"cuisine\", \"cost_slot\", \"rating\", \"address\"])\n",
    "    writer.writerows(restaurants)\n",
    "\n",
    "print(\"✅ jaipur_restaurants.csv created successfully!\")\n"
   ]
  }
 ],
 "metadata": {
  "kernelspec": {
   "display_name": "base",
   "language": "python",
   "name": "python3"
  },
  "language_info": {
   "codemirror_mode": {
    "name": "ipython",
    "version": 3
   },
   "file_extension": ".py",
   "mimetype": "text/x-python",
   "name": "python",
   "nbconvert_exporter": "python",
   "pygments_lexer": "ipython3",
   "version": "3.12.7"
  }
 },
 "nbformat": 4,
 "nbformat_minor": 5
}
