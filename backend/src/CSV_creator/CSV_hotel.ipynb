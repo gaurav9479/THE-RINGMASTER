{
 "cells": [
  {
   "cell_type": "code",
   "execution_count": null,
   "id": "86b00e13",
   "metadata": {},
   "outputs": [],
   "source": [
    "import csv\n",
    "\n",
    "# Hotel data\n",
    "hotels = [\n",
    "    [\"Taj Jai Mahal Palace\", \"Jaipur\", \"Jaipur Amer Rd\", 8000, 5, \"Pool, WiFi, Spa, Gym\", \"Luxury hotel blending heritage and modern comfort.\"],\n",
    "    [\"ITC Rajputana\", \"Jaipur\", \"Sawai Jai Singh Highway\", 7500, 5, \"Pool, WiFi, Restaurant, Spa\", \"Heritage property offering royal experience and fine dining.\"],\n",
    "    [\"Shahpura House\", \"Jaipur\", \"Shahpura Bagh Rd\", 4500, 4, \"WiFi, Restaurant, Spa\", \"Boutique hotel with traditional Rajasthani decor.\"],\n",
    "    [\"Alsisar Haveli\", \"Jaipur\", \"Alsisar Rd\", 5000, 4, \"WiFi, Restaurant, Courtyard\", \"Heritage haveli with royal ambiance and courtyard dining.\"],\n",
    "    [\"Fairfield by Marriott\", \"Jaipur\", \"Jawahar Lal Nehru Marg\", 4000, 4, \"Pool, WiFi, Gym, Restaurant\", \"Modern hotel suitable for business and leisure travelers.\"],\n",
    "    [\"Hilton Jaipur\", \"Jaipur\", \"Airport Rd\", 6000, 5, \"Pool, WiFi, Gym, Restaurant, Spa\", \"International brand with luxury amenities and rooftop pool.\"],\n",
    "    [\"Trident\", \"Jaipur\", \"Airport Rd\", 7000, 5, \"Pool, WiFi, Spa, Restaurant\", \"Premium hotel offering royal Rajasthani hospitality.\"],\n",
    "    [\"Radisson Blu Jaipur\", \"Jaipur\", \"Jaipur Sanganer Rd\", 5500, 4, \"Pool, WiFi, Gym, Restaurant\", \"Comfortable rooms with modern facilities and banquet halls.\"],\n",
    "    [\"Marriott Jaipur\", \"Jaipur\", \"Jaipur Sanganer Rd\", 6500, 5, \"Pool, WiFi, Gym, Spa, Restaurant\", \"Luxury property with scenic views and excellent service.\"],\n",
    "    [\"Hotel Pearl Palace\", \"Jaipur\", \"MI Rd\", 3000, 3, \"WiFi, Restaurant\", \"Budget-friendly heritage hotel with vibrant interiors.\"]\n",
    "]\n",
    "\n",
    "# CSV file path\n",
    "csv_file = \"jaipur_hotels.csv\"\n",
    "\n",
    "# Column headers\n",
    "headers = [\"Name\", \"City\", \"Address\", \"Price_per_Night\", \"Rating\", \"Amenities\", \"Description\"]\n",
    "\n",
    "# Writing CSV\n",
    "with open(csv_file, mode=\"w\", newline=\"\", encoding=\"utf-8\") as file:\n",
    "    writer = csv.writer(file)\n",
    "    writer.writerow(headers)\n",
    "    writer.writerows(hotels)\n",
    "\n",
    "print(f\"✅ CSV file '{csv_file}' created successfully!\")"
   ]
  },
  {
   "cell_type": "code",
   "execution_count": null,
   "id": "7357bca3",
   "metadata": {},
   "outputs": [],
   "source": []
  },
  {
   "cell_type": "code",
   "execution_count": null,
   "id": "bd3fc1a4",
   "metadata": {},
   "outputs": [],
   "source": []
  }
 ],
 "metadata": {
  "kernelspec": {
   "display_name": "base",
   "language": "python",
   "name": "python3"
  },
  "language_info": {
   "name": "python",
   "version": "3.12.7"
  }
 },
 "nbformat": 4,
 "nbformat_minor": 5
}
